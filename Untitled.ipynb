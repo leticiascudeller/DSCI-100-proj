{
 "cells": [
  {
   "cell_type": "code",
   "execution_count": null,
   "id": "cb864d04-0c01-4008-8201-4f4d5be5d57f",
   "metadata": {},
   "outputs": [],
   "source": [
    "library(tidyverse)\n",
    "library(tidymodels)\n",
    "library(cowplot)\n",
    "library(scales)\n",
    "library(repr)"
   ]
  },
  {
   "cell_type": "code",
   "execution_count": null,
   "id": "50d403e6-c3fe-4943-a31b-28904360a7a3",
   "metadata": {},
   "outputs": [],
   "source": [
    "players <- read_csv(\"https://drive.google.com/uc?export=download&id=1Mw9vW0hjTJwRWx0bDXiSpYsO3gKogaPz\") |> \n",
    "    as_tibble() |> \n",
    "    select(-individualId, -organizationName)"
   ]
  },
  {
   "cell_type": "code",
   "execution_count": null,
   "id": "df01711f-c5f5-4b5c-a661-6a0136c929d6",
   "metadata": {},
   "outputs": [],
   "source": []
  }
 ],
 "metadata": {
  "kernelspec": {
   "display_name": "R",
   "language": "R",
   "name": "ir"
  },
  "language_info": {
   "codemirror_mode": "r",
   "file_extension": ".r",
   "mimetype": "text/x-r-source",
   "name": "R",
   "pygments_lexer": "r",
   "version": "4.3.3"
  }
 },
 "nbformat": 4,
 "nbformat_minor": 5
}
